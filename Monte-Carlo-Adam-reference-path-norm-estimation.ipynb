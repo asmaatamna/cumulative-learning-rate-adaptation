{
 "cells": [
  {
   "metadata": {},
   "cell_type": "markdown",
   "source": "# Monte Carlo Estimation of $\\mathbb{E}\\!\\left[\\lVert r_{t+1}\\rVert^2\\right]$ (squared norm of reference path) for Adam"
  },
  {
   "metadata": {},
   "cell_type": "code",
   "source": [
    "import numpy as np\n",
    "import matplotlib.pyplot as plt"
   ],
   "outputs": [],
   "execution_count": null
  },
  {
   "metadata": {},
   "cell_type": "code",
   "source": [
    "def estimate_path_norm_squared_stats_vectorized(\n",
    "    shape,\n",
    "    num_trials=100,\n",
    "    num_steps=100,\n",
    "    betas=(0.9, 0.999),\n",
    "    eps=1e-8,\n",
    "    smoothing=0.2,\n",
    "    seed=None\n",
    "):\n",
    "    if seed is not None:\n",
    "        np.random.seed(seed)\n",
    "\n",
    "    beta1, beta2 = betas\n",
    "    shape = tuple(shape)\n",
    "    trials_shape = (num_trials,) + shape\n",
    "\n",
    "    # Initialize states\n",
    "    m = np.zeros(trials_shape)\n",
    "    v = np.zeros(trials_shape)\n",
    "    path = np.zeros(trials_shape)\n",
    "\n",
    "    for t in range(1, num_steps + 1):\n",
    "        # Vectorized sampling of Gaussian noise for all trials\n",
    "        grad = np.random.randn(*trials_shape)\n",
    "\n",
    "        # Adam update\n",
    "        m = beta1 * m + (1 - beta1) * grad\n",
    "        v = beta2 * v + (1 - beta2) * grad**2\n",
    "\n",
    "        m_hat = m / (1 - beta1 ** t)\n",
    "        v_hat = v / (1 - beta2 ** t)\n",
    "        adam_step = m_hat / (np.sqrt(v_hat) + eps)\n",
    "\n",
    "        # Normalize each vector across the last dimensions\n",
    "        norm = np.linalg.norm(adam_step, axis=tuple(range(1, len(trials_shape))), keepdims=True)\n",
    "        normalized_step = adam_step / np.clip(norm, a_min=1e-12, a_max=None)\n",
    "\n",
    "        # Exponential average\n",
    "        path = (1 - smoothing) * path + smoothing * normalized_step\n",
    "\n",
    "    # Compute squared norms for all trials\n",
    "    path_squared_norms = np.sum(path**2, axis=tuple(range(1, len(trials_shape))))\n",
    "    return path_squared_norms.mean(), path_squared_norms.std()\n"
   ],
   "outputs": [],
   "execution_count": null
  },
  {
   "metadata": {},
   "cell_type": "code",
   "source": [
    "dims = [15, 42, 650]\n",
    "for dim in dims:\n",
    "    mean, std = estimate_path_norm_squared_stats_vectorized(shape=(dim,), num_trials=1000, num_steps=1000)\n",
    "    print(f\"Dim.: {dim}, Mean: {mean:.4f}, Std: {std:.4f}\")"
   ],
   "outputs": [],
   "execution_count": null
  },
  {
   "metadata": {},
   "cell_type": "code",
   "source": [
    "def plot_path_norm_stats_vs_dimension(\n",
    "    dims,\n",
    "    num_trials=100,\n",
    "    num_steps=100,\n",
    "    betas=(0.9, 0.999),\n",
    "    eps=1e-8,\n",
    "    smoothing=0.2,\n",
    "    seed=None\n",
    "):\n",
    "    means = []\n",
    "    stds = []\n",
    "\n",
    "    for d in dims:\n",
    "        mean, std = estimate_path_norm_squared_stats_vectorized(\n",
    "            shape=(d,),\n",
    "            num_trials=num_trials,\n",
    "            num_steps=num_steps,\n",
    "            betas=betas,\n",
    "            eps=eps,\n",
    "            smoothing=smoothing,\n",
    "            seed=seed\n",
    "        )\n",
    "        means.append(mean)\n",
    "        stds.append(std)\n",
    "\n",
    "    # Convert to NumPy arrays\n",
    "    dims = np.array(dims)\n",
    "    means = np.array(means)\n",
    "    stds = np.array(stds)\n",
    "\n",
    "    # Plot results\n",
    "    plt.figure(figsize=(8, 5))\n",
    "    plt.plot(dims, means, label='Mean of $\\\\|\\\\text{path}\\\\|^2$')\n",
    "    plt.fill_between(dims, means - stds, means + stds, alpha=0.3, label='±1 Std Dev')\n",
    "    plt.xlabel('Dimension')\n",
    "    plt.ylabel(r'$\\mathbb{E}[\\|\\mathrm{path}\\|^2]$')\n",
    "    plt.title(f'Path Norm Squared vs Dimension (steps={num_steps}, trials={num_trials})')\n",
    "    plt.grid(True)\n",
    "    plt.legend()\n",
    "    plt.tight_layout()\n",
    "    plt.show()\n"
   ],
   "outputs": [],
   "execution_count": null
  },
  {
   "metadata": {},
   "cell_type": "code",
   "source": [
    "dims = [15, 42, 650]\n",
    "plot_path_norm_stats_vs_dimension(dims, num_trials=500, num_steps=1000)"
   ],
   "outputs": [],
   "execution_count": null
  }
 ],
 "metadata": {
  "kernelspec": {
   "display_name": "Python 3",
   "language": "python",
   "name": "python3"
  },
  "language_info": {
   "codemirror_mode": {
    "name": "ipython",
    "version": 2
   },
   "file_extension": ".py",
   "mimetype": "text/x-python",
   "name": "python",
   "nbconvert_exporter": "python",
   "pygments_lexer": "ipython2",
   "version": "2.7.6"
  }
 },
 "nbformat": 4,
 "nbformat_minor": 0
}
